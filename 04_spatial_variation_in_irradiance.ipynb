{
 "cells": [
  {
   "cell_type": "markdown",
   "metadata": {},
   "source": [
    "## Spatial Variation in Irradiance\n",
    "\n",
    "This notebook looks a little deeper into a concept that was introduced earlier in [02_solar_power_forecasts.ipynb](02_solar_power_forecasts.ipynb): spatial variance in irradiance, and resulting fleet power, which is based on the maximum and minimum irradiance in each grid cell from a downsampled (\"coarsened\") version of the HRRR. We used a 10x10 coarsening window, which results in approximately 30x30 km grids. \n",
    "\n",
    "This value is normalized as: (max-min)/clear sky. This is our first indicator of forecast uncertainty. "
   ]
  },
  {
   "cell_type": "code",
   "execution_count": 1,
   "metadata": {},
   "outputs": [],
   "source": [
    "import pandas as pd\n",
    "import matplotlib.pyplot as plt"
   ]
  },
  {
   "cell_type": "markdown",
   "metadata": {},
   "source": [
    "Load previous timeseries DataFrames:"
   ]
  },
  {
   "cell_type": "code",
   "execution_count": 2,
   "metadata": {},
   "outputs": [],
   "source": [
    "p_ac_hrrr_coarse_max_all = pd.read_pickle('example_data/p_ac_hrrr_coarse_max_all.pkl')\n",
    "p_ac_hrrr_coarse_min_all = pd.read_pickle('example_data/p_ac_hrrr_coarse_min_all.pkl')\n",
    "power_ac_cs_all = pd.read_pickle('example_data/power_ac_cs_all.pkl')"
   ]
  },
  {
   "cell_type": "markdown",
   "metadata": {},
   "source": [
    "Normalize to clear sky power:"
   ]
  },
  {
   "cell_type": "code",
   "execution_count": 3,
   "metadata": {},
   "outputs": [],
   "source": [
    "max_min_norm = (p_ac_hrrr_coarse_max_all-p_ac_hrrr_coarse_min_all)/power_ac_cs_all\n",
    "max_min_norm = max_min_norm.dropna() # drop rows with nan to filter to time range of HRRR data\n",
    "\n",
    "# At *very* low irradiance, sometimes HRRR reports higher than our clear sky model\n",
    "# For intervals where clear sky power is less than 0.1% of max clear sky power, set\n",
    "# normalized max-min power to zero\n",
    "min_cs_filter = power_ac_cs_all < power_ac_cs_all.max()*.001\n",
    "max_min_norm[min_cs_filter] = 0\n",
    "\n",
    "max_min_norm.rename(columns={'power_ac':'max_min_norm'},inplace=True)"
   ]
  },
  {
   "cell_type": "markdown",
   "metadata": {},
   "source": [
    "A quick plot:"
   ]
  },
  {
   "cell_type": "code",
   "execution_count": 4,
   "metadata": {},
   "outputs": [
    {
     "data": {
      "image/png": "[encoded data removed]",
      "text/plain": [
       "<Figure size 640x480 with 1 Axes>"
      ]
     },
     "metadata": {},
     "output_type": "display_data"
    }
   ],
   "source": [
    "plt.plot(max_min_norm.index, max_min_norm.max_min_norm,drawstyle='steps-mid')\n",
    "plt.show()"
   ]
  },
  {
   "cell_type": "markdown",
   "metadata": {},
   "source": [
    "And let's save the DataFrame for use later:"
   ]
  },
  {
   "cell_type": "code",
   "execution_count": 5,
   "metadata": {},
   "outputs": [],
   "source": [
    "max_min_norm.to_pickle('example_data/max_min_norm_20210408.pkl')"
   ]
  },
  {
   "cell_type": "markdown",
   "metadata": {},
   "source": [
    "Next, we will look at our second indicator of forecast uncertainty, which comes from the NOAA GEFS, an ensemble forecast model: [05_ensemble_variation_in_cloud_cover.ipynb](05_ensemble_variation_in_cloud_cover.ipynb)."
   ]
  }
 ],
 "metadata": {
  "kernelspec": {
   "display_name": "Python 3",
   "language": "python",
   "name": "python3"
  },
  "language_info": {
   "codemirror_mode": {
    "name": "ipython",
    "version": 3
   },
   "file_extension": ".py",
   "mimetype": "text/x-python",
   "name": "python",
   "nbconvert_exporter": "python",
   "pygments_lexer": "ipython3",
   "version": "3.10.14"
  }
 },
 "nbformat": 4,
 "nbformat_minor": 2
}
