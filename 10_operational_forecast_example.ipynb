{
 "cells": [
  {
   "cell_type": "code",
   "execution_count": 22,
   "metadata": {},
   "outputs": [],
   "source": [
    "import pandas as pd\n",
    "import numpy as np\n",
    "import pvlib\n",
    "import datetime\n",
    "from solar_forecaster.herbie_gefs_tools import get_tcc_fcasts_fastherbie, get_tcc_fcast\n",
    "from solar_forecaster.herbie_hrrr_tools import get_hrrr_fcasts_fastherbie\n",
    "import matplotlib.pyplot as plt\n",
    "import xgboost as xgb\n",
    "from quantile_forest import RandomForestQuantileRegressor\n",
    "import joblib"
   ]
  },
  {
   "cell_type": "markdown",
   "metadata": {},
   "source": [
    "Load plant specs:"
   ]
  },
  {
   "cell_type": "code",
   "execution_count": 2,
   "metadata": {},
   "outputs": [],
   "source": [
    "plants_df = pd.read_csv('pv_fleet_metadata_rev3.csv') # read in as a Pandas DataFrame\n",
    "plants_df = plants_df[plants_df['ac_capacity']>=10].copy().reset_index()\n",
    "num_plants = len(plants_df.index) # number of plants"
   ]
  },
  {
   "cell_type": "markdown",
   "metadata": {},
   "source": [
    "Calculate initialization time for GEFS:"
   ]
  },
  {
   "cell_type": "code",
   "execution_count": 12,
   "metadata": {},
   "outputs": [
    {
     "name": "stdout",
     "output_type": "stream",
     "text": [
      "2024-04-15 12:00:00\n"
     ]
    }
   ],
   "source": [
    "# get delay_to_first_forecast and update_freq from \n",
    "# https://github.com/SolarArbiter/solarforecastarbiter-core/blob/master/solarforecastarbiter/io/fetch/nwp.py\n",
    "delay_to_first_forecast = '280min'\n",
    "update_freq = '6h'\n",
    "\n",
    "time_now = pd.Timestamp(datetime.datetime.now().isoformat())\n",
    "init_time = (time_now - pd.Timedelta(delay_to_first_forecast)).floor(update_freq)\n",
    "print(init_time)"
   ]
  },
  {
   "cell_type": "markdown",
   "metadata": {},
   "source": [
    "Get GEFS data:"
   ]
  },
  {
   "cell_type": "code",
   "execution_count": 13,
   "metadata": {},
   "outputs": [
    {
     "name": "stdout",
     "output_type": "stream",
     "text": [
      "downloading new data\n",
      "member 1 download complete\n",
      "member 2 download complete\n",
      "member 3 download complete\n",
      "downloaded and processed \n"
     ]
    },
    {
     "data": {
      "text/html": [
       "<div>\n",
       "<style scoped>\n",
       "    .dataframe tbody tr th:only-of-type {\n",
       "        vertical-align: middle;\n",
       "    }\n",
       "\n",
       "    .dataframe tbody tr th {\n",
       "        vertical-align: top;\n",
       "    }\n",
       "\n",
       "    .dataframe thead th {\n",
       "        text-align: right;\n",
       "    }\n",
       "</style>\n",
       "<table border=\"1\" class=\"dataframe\">\n",
       "  <thead>\n",
       "    <tr style=\"text-align: right;\">\n",
       "      <th></th>\n",
       "      <th>time_utc</th>\n",
       "      <th>step</th>\n",
       "      <th>tcc_std</th>\n",
       "      <th>tcc_p01</th>\n",
       "      <th>tcc_p02</th>\n",
       "      <th>tcc_p03</th>\n",
       "    </tr>\n",
       "    <tr>\n",
       "      <th>valid_time_utc_end_of_interval</th>\n",
       "      <th></th>\n",
       "      <th></th>\n",
       "      <th></th>\n",
       "      <th></th>\n",
       "      <th></th>\n",
       "      <th></th>\n",
       "    </tr>\n",
       "  </thead>\n",
       "  <tbody>\n",
       "    <tr>\n",
       "      <th>2024-04-16 13:00:00+00:00</th>\n",
       "      <td>2024-04-15 12:00:00</td>\n",
       "      <td>1 days 03:00:00</td>\n",
       "      <td>2.319841</td>\n",
       "      <td>89.478810</td>\n",
       "      <td>87.560019</td>\n",
       "      <td>92.177784</td>\n",
       "    </tr>\n",
       "    <tr>\n",
       "      <th>2024-04-16 14:00:00+00:00</th>\n",
       "      <td>2024-04-15 12:00:00</td>\n",
       "      <td>1 days 03:00:00</td>\n",
       "      <td>2.319841</td>\n",
       "      <td>89.478810</td>\n",
       "      <td>87.560019</td>\n",
       "      <td>92.177784</td>\n",
       "    </tr>\n",
       "    <tr>\n",
       "      <th>2024-04-16 15:00:00+00:00</th>\n",
       "      <td>2024-04-15 12:00:00</td>\n",
       "      <td>1 days 03:00:00</td>\n",
       "      <td>2.319841</td>\n",
       "      <td>89.478810</td>\n",
       "      <td>87.560019</td>\n",
       "      <td>92.177784</td>\n",
       "    </tr>\n",
       "    <tr>\n",
       "      <th>2024-04-16 16:00:00+00:00</th>\n",
       "      <td>2024-04-15 12:00:00</td>\n",
       "      <td>1 days 06:00:00</td>\n",
       "      <td>1.959429</td>\n",
       "      <td>89.567796</td>\n",
       "      <td>90.308506</td>\n",
       "      <td>93.270807</td>\n",
       "    </tr>\n",
       "    <tr>\n",
       "      <th>2024-04-16 17:00:00+00:00</th>\n",
       "      <td>2024-04-15 12:00:00</td>\n",
       "      <td>1 days 06:00:00</td>\n",
       "      <td>1.959429</td>\n",
       "      <td>89.567796</td>\n",
       "      <td>90.308506</td>\n",
       "      <td>93.270807</td>\n",
       "    </tr>\n",
       "  </tbody>\n",
       "</table>\n",
       "</div>"
      ],
      "text/plain": [
       "                                          time_utc            step   tcc_std  \\\n",
       "valid_time_utc_end_of_interval                                                 \n",
       "2024-04-16 13:00:00+00:00      2024-04-15 12:00:00 1 days 03:00:00  2.319841   \n",
       "2024-04-16 14:00:00+00:00      2024-04-15 12:00:00 1 days 03:00:00  2.319841   \n",
       "2024-04-16 15:00:00+00:00      2024-04-15 12:00:00 1 days 03:00:00  2.319841   \n",
       "2024-04-16 16:00:00+00:00      2024-04-15 12:00:00 1 days 06:00:00  1.959429   \n",
       "2024-04-16 17:00:00+00:00      2024-04-15 12:00:00 1 days 06:00:00  1.959429   \n",
       "\n",
       "                                  tcc_p01    tcc_p02    tcc_p03  \n",
       "valid_time_utc_end_of_interval                                   \n",
       "2024-04-16 13:00:00+00:00       89.478810  87.560019  92.177784  \n",
       "2024-04-16 14:00:00+00:00       89.478810  87.560019  92.177784  \n",
       "2024-04-16 15:00:00+00:00       89.478810  87.560019  92.177784  \n",
       "2024-04-16 16:00:00+00:00       89.567796  90.308506  93.270807  \n",
       "2024-04-16 17:00:00+00:00       89.567796  90.308506  93.270807  "
      ]
     },
     "execution_count": 13,
     "metadata": {},
     "output_type": "execute_result"
    }
   ],
   "source": [
    "num_members = 3 # Number of ensemble members to pull, max of 30\n",
    "freq='1D' # how often to pull a new forecast\n",
    "fxx_interval = 3 # time step of the forecast, GEFS has 3 hour intervals\n",
    "fxx_range = range(27,46,fxx_interval)\n",
    "\n",
    "# lat, lon extent for region of interest\n",
    "# (left lon, right lon, lower lat, upper lat)\n",
    "region_extent = [-92, -80, 29, 36]\n",
    "\n",
    "start = init_time\n",
    "end = init_time\n",
    "\n",
    "save_dir = 'nc_files/gefs/'\n",
    "remove_grib=True\n",
    "w_avg_tcc = get_tcc_fcasts_fastherbie(start, end, freq, fxx_range, plants_df,\n",
    "                              region_extent=region_extent, num_members=num_members,\n",
    "                              save=False, save_dir='', attempts=5, remove_grib=False)\n",
    "\n",
    "# clean up indices and localize to UTC\n",
    "w_avg_tcc = w_avg_tcc.reset_index().set_index('valid_time_utc_end_of_interval').tz_localize('UTC')\n",
    "w_avg_tcc.head()"
   ]
  },
  {
   "cell_type": "markdown",
   "metadata": {},
   "source": [
    "Calculate initialization time for HRRR:"
   ]
  },
  {
   "cell_type": "code",
   "execution_count": 3,
   "metadata": {},
   "outputs": [
    {
     "name": "stdout",
     "output_type": "stream",
     "text": [
      "2024-04-15 18:00:00\n"
     ]
    }
   ],
   "source": [
    "# get delay_to_first_forecast and update_freq from \n",
    "# https://github.com/SolarArbiter/solarforecastarbiter-core/blob/master/solarforecastarbiter/io/fetch/nwp.py\n",
    "delay_to_first_forecast = '45min' \n",
    "update_freq = '6h' # HRRR updates hourly, but only goes out 48 hours at 00Z, 06Z, 12Z, and 18Z forecasts\n",
    "\n",
    "time_now = pd.Timestamp(datetime.datetime.now().isoformat())\n",
    "init_time = (time_now - pd.Timedelta(delay_to_first_forecast)).floor(update_freq)\n",
    "print(init_time)"
   ]
  },
  {
   "cell_type": "markdown",
   "metadata": {},
   "source": [
    "Get HRRR data:"
   ]
  },
  {
   "cell_type": "code",
   "execution_count": 7,
   "metadata": {},
   "outputs": [
    {
     "name": "stdout",
     "output_type": "stream",
     "text": [
      "downloading new data\n"
     ]
    },
    {
     "name": "stderr",
     "output_type": "stream",
     "text": [
      "c:\\Users\\willh\\miniforge3\\envs\\pvlib_herbie_env\\lib\\site-packages\\herbie\\core.py:1096: UserWarning: Will not remove GRIB file because it previously existed.\n",
      "  warnings.warn(\"Will not remove GRIB file because it previously existed.\")\n"
     ]
    },
    {
     "name": "stdout",
     "output_type": "stream",
     "text": [
      "variable group 1 download complete\n",
      "variable group 2 download complete\n",
      "variable group 3 download complete\n",
      "downloaded and processed \n"
     ]
    },
    {
     "name": "stderr",
     "output_type": "stream",
     "text": [
      "c:\\Users\\willh\\miniforge3\\envs\\pvlib_herbie_env\\lib\\site-packages\\herbie\\accessors.py:258: UserWarning: More than one time coordinate present for variable  \"t2m_c\".\n",
      "  ds = ds.metpy.parse_cf()\n",
      "c:\\Users\\willh\\miniforge3\\envs\\pvlib_herbie_env\\lib\\site-packages\\herbie\\accessors.py:258: UserWarning: More than one time coordinate present for variable  \"wspd\".\n",
      "  ds = ds.metpy.parse_cf()\n",
      "c:\\Users\\willh\\miniforge3\\envs\\pvlib_herbie_env\\lib\\site-packages\\herbie\\accessors.py:262: UserWarning: More than one time coordinate present for variable  \"dswrf\".\n",
      "  ds = ds.metpy.assign_y_x()\n",
      "c:\\Users\\willh\\miniforge3\\envs\\pvlib_herbie_env\\lib\\site-packages\\herbie\\accessors.py:262: UserWarning: More than one time coordinate present for variable  \"t2m\".\n",
      "  ds = ds.metpy.assign_y_x()\n",
      "c:\\Users\\willh\\miniforge3\\envs\\pvlib_herbie_env\\lib\\site-packages\\herbie\\accessors.py:262: UserWarning: More than one time coordinate present for variable  \"u10\".\n",
      "  ds = ds.metpy.assign_y_x()\n",
      "c:\\Users\\willh\\miniforge3\\envs\\pvlib_herbie_env\\lib\\site-packages\\herbie\\accessors.py:262: UserWarning: More than one time coordinate present for variable  \"v10\".\n",
      "  ds = ds.metpy.assign_y_x()\n",
      "c:\\Users\\willh\\miniforge3\\envs\\pvlib_herbie_env\\lib\\site-packages\\herbie\\accessors.py:262: UserWarning: More than one time coordinate present for variable  \"t2m_c\".\n",
      "  ds = ds.metpy.assign_y_x()\n",
      "c:\\Users\\willh\\miniforge3\\envs\\pvlib_herbie_env\\lib\\site-packages\\herbie\\accessors.py:262: UserWarning: More than one time coordinate present for variable  \"wspd\".\n",
      "  ds = ds.metpy.assign_y_x()\n"
     ]
    },
    {
     "name": "stdout",
     "output_type": "stream",
     "text": [
      "downloading new data\n"
     ]
    },
    {
     "name": "stderr",
     "output_type": "stream",
     "text": [
      "c:\\Users\\willh\\miniforge3\\envs\\pvlib_herbie_env\\lib\\site-packages\\herbie\\core.py:1096: UserWarning: Will not remove GRIB file because it previously existed.\n",
      "  warnings.warn(\"Will not remove GRIB file because it previously existed.\")\n"
     ]
    },
    {
     "name": "stdout",
     "output_type": "stream",
     "text": [
      "variable group 1 download complete\n",
      "variable group 2 download complete\n",
      "variable group 3 download complete\n",
      "downloaded and processed \n"
     ]
    },
    {
     "name": "stderr",
     "output_type": "stream",
     "text": [
      "c:\\Users\\willh\\miniforge3\\envs\\pvlib_herbie_env\\lib\\site-packages\\herbie\\accessors.py:258: UserWarning: More than one time coordinate present for variable  \"t2m_c\".\n",
      "  ds = ds.metpy.parse_cf()\n",
      "c:\\Users\\willh\\miniforge3\\envs\\pvlib_herbie_env\\lib\\site-packages\\herbie\\accessors.py:258: UserWarning: More than one time coordinate present for variable  \"wspd\".\n",
      "  ds = ds.metpy.parse_cf()\n",
      "c:\\Users\\willh\\miniforge3\\envs\\pvlib_herbie_env\\lib\\site-packages\\herbie\\accessors.py:262: UserWarning: More than one time coordinate present for variable  \"dswrf\".\n",
      "  ds = ds.metpy.assign_y_x()\n",
      "c:\\Users\\willh\\miniforge3\\envs\\pvlib_herbie_env\\lib\\site-packages\\herbie\\accessors.py:262: UserWarning: More than one time coordinate present for variable  \"t2m\".\n",
      "  ds = ds.metpy.assign_y_x()\n",
      "c:\\Users\\willh\\miniforge3\\envs\\pvlib_herbie_env\\lib\\site-packages\\herbie\\accessors.py:262: UserWarning: More than one time coordinate present for variable  \"u10\".\n",
      "  ds = ds.metpy.assign_y_x()\n",
      "c:\\Users\\willh\\miniforge3\\envs\\pvlib_herbie_env\\lib\\site-packages\\herbie\\accessors.py:262: UserWarning: More than one time coordinate present for variable  \"v10\".\n",
      "  ds = ds.metpy.assign_y_x()\n",
      "c:\\Users\\willh\\miniforge3\\envs\\pvlib_herbie_env\\lib\\site-packages\\herbie\\accessors.py:262: UserWarning: More than one time coordinate present for variable  \"t2m_c\".\n",
      "  ds = ds.metpy.assign_y_x()\n",
      "c:\\Users\\willh\\miniforge3\\envs\\pvlib_herbie_env\\lib\\site-packages\\herbie\\accessors.py:262: UserWarning: More than one time coordinate present for variable  \"wspd\".\n",
      "  ds = ds.metpy.assign_y_x()\n"
     ]
    },
    {
     "name": "stdout",
     "output_type": "stream",
     "text": [
      "downloading new data\n"
     ]
    },
    {
     "name": "stderr",
     "output_type": "stream",
     "text": [
      "c:\\Users\\willh\\miniforge3\\envs\\pvlib_herbie_env\\lib\\site-packages\\herbie\\core.py:1096: UserWarning: Will not remove GRIB file because it previously existed.\n",
      "  warnings.warn(\"Will not remove GRIB file because it previously existed.\")\n"
     ]
    },
    {
     "name": "stdout",
     "output_type": "stream",
     "text": [
      "variable group 1 download complete\n",
      "variable group 2 download complete\n",
      "variable group 3 download complete\n",
      "downloaded and processed \n"
     ]
    },
    {
     "name": "stderr",
     "output_type": "stream",
     "text": [
      "c:\\Users\\willh\\miniforge3\\envs\\pvlib_herbie_env\\lib\\site-packages\\herbie\\accessors.py:258: UserWarning: More than one time coordinate present for variable  \"t2m_c\".\n",
      "  ds = ds.metpy.parse_cf()\n",
      "c:\\Users\\willh\\miniforge3\\envs\\pvlib_herbie_env\\lib\\site-packages\\herbie\\accessors.py:258: UserWarning: More than one time coordinate present for variable  \"wspd\".\n",
      "  ds = ds.metpy.parse_cf()\n",
      "c:\\Users\\willh\\miniforge3\\envs\\pvlib_herbie_env\\lib\\site-packages\\herbie\\accessors.py:262: UserWarning: More than one time coordinate present for variable  \"dswrf\".\n",
      "  ds = ds.metpy.assign_y_x()\n",
      "c:\\Users\\willh\\miniforge3\\envs\\pvlib_herbie_env\\lib\\site-packages\\herbie\\accessors.py:262: UserWarning: More than one time coordinate present for variable  \"t2m\".\n",
      "  ds = ds.metpy.assign_y_x()\n",
      "c:\\Users\\willh\\miniforge3\\envs\\pvlib_herbie_env\\lib\\site-packages\\herbie\\accessors.py:262: UserWarning: More than one time coordinate present for variable  \"u10\".\n",
      "  ds = ds.metpy.assign_y_x()\n",
      "c:\\Users\\willh\\miniforge3\\envs\\pvlib_herbie_env\\lib\\site-packages\\herbie\\accessors.py:262: UserWarning: More than one time coordinate present for variable  \"v10\".\n",
      "  ds = ds.metpy.assign_y_x()\n",
      "c:\\Users\\willh\\miniforge3\\envs\\pvlib_herbie_env\\lib\\site-packages\\herbie\\accessors.py:262: UserWarning: More than one time coordinate present for variable  \"t2m_c\".\n",
      "  ds = ds.metpy.assign_y_x()\n",
      "c:\\Users\\willh\\miniforge3\\envs\\pvlib_herbie_env\\lib\\site-packages\\herbie\\accessors.py:262: UserWarning: More than one time coordinate present for variable  \"wspd\".\n",
      "  ds = ds.metpy.assign_y_x()\n"
     ]
    }
   ],
   "source": [
    "freq = '24h'\n",
    "fxx_range = range(27,45)\n",
    "query_len_days = 3\n",
    "\n",
    "save_dir = 'nc_files/hrrr/'\n",
    "remove_grib=True\n",
    "region_extent=[220,440,1080,1440]\n",
    "\n",
    "start = init_time\n",
    "end = init_time\n",
    "\n",
    "# coarsened mean\n",
    "ds, p_ac_all_fcast, _, p_ac_all_cs, _ = get_hrrr_fcasts_fastherbie(start, end, freq, fxx_range, plants_df,\n",
    "                              region_extent=region_extent, save=False, \n",
    "                              save_dir='', attempts=5, transposition_model='perez',\n",
    "                              decomposition_model='erbs', coarsen_type='mean',\n",
    "                              window_size=10)\n",
    "\n",
    "# coarsened max\n",
    "_, p_ac_all_fcast_max, _, _, _ = get_hrrr_fcasts_fastherbie(start, end, freq, fxx_range, plants_df,\n",
    "                              region_extent=region_extent, save=False, \n",
    "                              save_dir='', attempts=5, transposition_model='perez',\n",
    "                              decomposition_model='erbs', coarsen_type='max',\n",
    "                              window_size=10)\n",
    "\n",
    "# coarsened min\n",
    "_, p_ac_all_fcast_min, _, _, _ = get_hrrr_fcasts_fastherbie(start, end, freq, fxx_range, plants_df,\n",
    "                              region_extent=region_extent, save=False, \n",
    "                              save_dir='', attempts=5, transposition_model='perez',\n",
    "                              decomposition_model='erbs', coarsen_type='min',\n",
    "                              window_size=10)"
   ]
  },
  {
   "cell_type": "markdown",
   "metadata": {},
   "source": [
    "Load models that we trained previously:"
   ]
  },
  {
   "cell_type": "code",
   "execution_count": 36,
   "metadata": {},
   "outputs": [],
   "source": [
    "booster = xgb.Booster()\n",
    "booster.load_model(\"regression_models/xgboost_model.json\")\n",
    "qrf = joblib.load('regression_models/qrf_file.joblib')\n",
    "\n",
    "\n",
    "pi_list_xgb = [.9995, .999, .99, .96, .57] \n",
    "pi_list_rf = [.995, .99, .98, .95, .5]"
   ]
  },
  {
   "cell_type": "markdown",
   "metadata": {},
   "source": []
  },
  {
   "cell_type": "code",
   "execution_count": 25,
   "metadata": {},
   "outputs": [],
   "source": [
    "p_ac_all_cs.rename(columns={'power_ac': 'p_ac_all_cs'}, inplace=True)\n",
    "p_ac_all_fcast.rename(columns={'power_ac': 'p_ac_all_fcast'}, inplace=True)\n",
    "p_ac_all_fcast_max.rename(columns={'power_ac': 'p_ac_all_fcast_max'}, inplace=True)\n",
    "p_ac_all_fcast_min.rename(columns={'power_ac': 'p_ac_all_fcast_min'}, inplace=True)\n",
    "\n",
    "# list of dataframes to combine first\n",
    "dfs = [\n",
    "    p_ac_all_fcast,\n",
    "    p_ac_all_fcast_max,\n",
    "    p_ac_all_fcast_min,\n",
    "    p_ac_all_cs,\n",
    "    w_avg_tcc.tcc_std,\n",
    "    ]\n",
    "\n",
    "# combine all dataframes and drop na rows\n",
    "df = pd.concat(dfs, axis=1).dropna()\n",
    "\n",
    "df.index.name = 'time_center_labeled'\n",
    "\n",
    "# calculate normalized max-min\n",
    "df['max_min_norm'] = (df['p_ac_all_fcast_max'] - df['p_ac_all_fcast_min'])/df['p_ac_all_cs']\n",
    "\n",
    "# normalize forecast to clear sky\n",
    "df['csi_fcast'] = df['p_ac_all_fcast']/df['p_ac_all_cs']\n",
    "\n",
    "latitude, longitude = 32.8 , -83.6\n",
    "solpos = pvlib.solarposition.get_solarposition(time=df.index,latitude=latitude, longitude=longitude)\n",
    "\n",
    "df['hour'] = df.index.hour\n",
    "df['month'] = df.index.month\n",
    "df['el'] = solpos.apparent_elevation\n",
    "df['zen'] = solpos.apparent_zenith\n",
    "df['az'] = solpos.azimuth"
   ]
  },
  {
   "cell_type": "code",
   "execution_count": 26,
   "metadata": {},
   "outputs": [],
   "source": [
    "filtered_df = df.dropna()\n",
    "approx_nameplate = plants_df['ac_capacity'].sum() \n",
    "filtered_df = filtered_df[filtered_df['p_ac_all_cs'] >= approx_nameplate*.001]\n",
    "\n",
    "X=filtered_df[['tcc_std']].copy()\n",
    "X['max_min_norm'] = filtered_df['max_min_norm']\n",
    "X['csi_fcast'] = filtered_df['csi_fcast']\n",
    "X['zen'] = filtered_df['zen']\n",
    "X['az'] = filtered_df['az']\n",
    "X['month'] = filtered_df['month']"
   ]
  },
  {
   "cell_type": "code",
   "execution_count": 27,
   "metadata": {},
   "outputs": [],
   "source": [
    "y_pred = booster.inplace_predict(X)"
   ]
  },
  {
   "cell_type": "code",
   "execution_count": 28,
   "metadata": {},
   "outputs": [],
   "source": [
    "pi_list = pi_list_xgb\n",
    "percentile_list = [(1-x)/2 for x in pi_list] + [.5] + [1-(1-x)/2 for x in reversed(pi_list)]\n",
    "percentile_list = [round(elem, 6) for elem in percentile_list]\n",
    "num_intervals = len(pi_list)\n",
    "\n",
    "# create a results dataframe\n",
    "result_df = X.copy()\n",
    "\n",
    "# merge orginal DF, marking duplicate columns and then dropping them\n",
    "result_df = result_df.merge(df, left_index=True, right_index=True, suffixes=('', '_drop'))\n",
    "result_df.drop(result_df.filter(regex='_drop$').columns, axis=1, inplace=True)\n",
    "\n",
    "# adding CS-normalized quantiles/percentiles, and then un-normalizing them to get power\n",
    "for i in range(len(percentile_list)):\n",
    "    result_df[str(percentile_list[i])+'_csi']=y_pred[:,i]\n",
    "for i in range(len(percentile_list)):\n",
    "    result_df[str(percentile_list[i])+'_p_ac']=y_pred[:,i]*result_df['p_ac_all_cs']\n",
    "\n",
    "# fill in overnight \n",
    "result_df = result_df.reset_index().set_index('time_center_labeled').asfreq('1h')"
   ]
  },
  {
   "cell_type": "code",
   "execution_count": 30,
   "metadata": {},
   "outputs": [
    {
     "data": {
      "image/png": "[encoded data removed]",
      "text/plain": [
       "<Figure size 640x480 with 1 Axes>"
      ]
     },
     "metadata": {},
     "output_type": "display_data"
    }
   ],
   "source": [
    "for i in range(num_intervals):\n",
    "    alph=0.1+(i/10.)\n",
    "    plt.fill_between(result_df.index,# x\n",
    "                     result_df[str(percentile_list[i])+'_p_ac'].fillna(0), # lower\n",
    "                     result_df[str(percentile_list[len(percentile_list)-i-1])+'_p_ac'].fillna(0), # upper\n",
    "                     color='blue',\n",
    "                     alpha=alph,\n",
    "                     step='mid',\n",
    "                     label=(str(pi_list[i]*100)+'%'))\n",
    "    \n",
    "plt.plot(result_df.index,\n",
    "         result_df[str(percentile_list[int((len(percentile_list)-1)/2)])+'_p_ac'],\n",
    "         label='XGB expected',color='brown', drawstyle='steps-mid')\n",
    "plt.plot(result_df.index,result_df['p_ac_all_fcast'],label='DA fcast (HRRR coarse)',color='orange', drawstyle='steps-mid')\n",
    "plt.ylabel('AC Power (MW)')\n",
    "# plt.ylim([0,4500])\n",
    "plt.legend(bbox_to_anchor=(1.05, 1.0), loc='upper left')\n",
    "plt.show()"
   ]
  },
  {
   "cell_type": "code",
   "execution_count": 31,
   "metadata": {},
   "outputs": [],
   "source": [
    "result_df_XGB = result_df.copy()"
   ]
  },
  {
   "cell_type": "code",
   "execution_count": 37,
   "metadata": {},
   "outputs": [
    {
     "name": "stderr",
     "output_type": "stream",
     "text": [
      "c:\\Users\\willh\\miniforge3\\envs\\pvlib_herbie_env\\lib\\site-packages\\sklearn\\base.py:486: UserWarning: X has feature names, but RandomForestQuantileRegressor was fitted without feature names\n",
      "  warnings.warn(\n"
     ]
    }
   ],
   "source": [
    "y_pred = qrf.predict(X, quantiles=percentile_list)"
   ]
  },
  {
   "cell_type": "code",
   "execution_count": 38,
   "metadata": {},
   "outputs": [],
   "source": [
    "pi_list = pi_list_rf\n",
    "percentile_list = [(1-x)/2 for x in pi_list] + [.5] + [1-(1-x)/2 for x in reversed(pi_list)]\n",
    "percentile_list = [round(elem, 6) for elem in percentile_list]\n",
    "num_intervals = len(pi_list)\n",
    "\n",
    "# create a results dataframe\n",
    "result_df = X.copy()\n",
    "\n",
    "# merge orginal DF, marking duplicate columns and then dropping them\n",
    "result_df = result_df.merge(df, left_index=True, right_index=True, suffixes=('', '_drop'))\n",
    "result_df.drop(result_df.filter(regex='_drop$').columns, axis=1, inplace=True)\n",
    "\n",
    "# adding CS-normalized quantiles/percentiles, and then un-normalizing them to get power\n",
    "for i in range(len(percentile_list)):\n",
    "    result_df[str(percentile_list[i])+'_csi']=y_pred[:,i]\n",
    "for i in range(len(percentile_list)):\n",
    "    result_df[str(percentile_list[i])+'_p_ac']=y_pred[:,i]*result_df['p_ac_all_cs']\n",
    "\n",
    "# fill in overnight \n",
    "result_df = result_df.reset_index().set_index('time_center_labeled').asfreq('1h')"
   ]
  },
  {
   "cell_type": "code",
   "execution_count": 39,
   "metadata": {},
   "outputs": [
    {
     "data": {
      "image/png": "[encoded data removed]",
      "text/plain": [
       "<Figure size 640x480 with 1 Axes>"
      ]
     },
     "metadata": {},
     "output_type": "display_data"
    }
   ],
   "source": [
    "for i in range(num_intervals):\n",
    "    alph=0.1+(i/10.)\n",
    "    plt.fill_between(result_df.index,# x\n",
    "                     result_df[str(percentile_list[i])+'_p_ac'].fillna(0), # lower\n",
    "                     result_df[str(percentile_list[len(percentile_list)-i-1])+'_p_ac'].fillna(0), # upper\n",
    "                     color='blue',\n",
    "                     alpha=alph,\n",
    "                     step='mid',\n",
    "                     label=(str(pi_list[i]*100)+'%'))\n",
    "    \n",
    "plt.plot(result_df.index,\n",
    "         result_df[str(percentile_list[int((len(percentile_list)-1)/2)])+'_p_ac'],\n",
    "         label='RF expected',color='brown', drawstyle='steps-mid')\n",
    "plt.plot(result_df.index,result_df['p_ac_all_fcast'],label='DA fcast (HRRR coarse)',color='orange', drawstyle='steps-mid')\n",
    "plt.ylabel('AC Power (MW)')\n",
    "# plt.ylim([0,4500])\n",
    "plt.legend(bbox_to_anchor=(1.05, 1.0), loc='upper left')\n",
    "plt.show()"
   ]
  },
  {
   "cell_type": "code",
   "execution_count": 40,
   "metadata": {},
   "outputs": [],
   "source": [
    "result_df_RF = result_df.copy()"
   ]
  },
  {
   "cell_type": "code",
   "execution_count": 41,
   "metadata": {},
   "outputs": [
    {
     "name": "stdout",
     "output_type": "stream",
     "text": [
      "extreme lower bound from rf 0.0025_p_ac\n",
      "lower bounds 0.005_p_ac 0.0005_p_ac\n",
      "lower bounds 0.01_p_ac 0.005_p_ac\n",
      "lower bounds 0.025_p_ac 0.02_p_ac\n",
      "lower bounds 0.25_p_ac 0.215_p_ac\n",
      "mid 0.5_p_ac 0.5_p_ac\n",
      "upper bounds 0.75_p_ac 0.785_p_ac\n",
      "upper bounds 0.975_p_ac 0.98_p_ac\n",
      "upper bounds 0.99_p_ac 0.995_p_ac\n",
      "upper bounds 0.995_p_ac 0.9995_p_ac\n",
      "extreme upper bound from rf 0.9975_p_ac\n"
     ]
    }
   ],
   "source": [
    "# create new hyrbid dataframe, starting with RF because PIs were accurate so we can keep column names\n",
    "result_df_hybrid = result_df_RF.copy()\n",
    "\n",
    "# find columns that end in `_p_ac` (e.g., '0.015_p_ac')\n",
    "rf_columns = result_df_RF.filter(regex='_p_ac$').columns\n",
    "xgb_columns = result_df_XGB.filter(regex='_p_ac$').columns\n",
    "\n",
    "# loop through, selecting max of lower bounds and min of upper bounds\n",
    "for i in range(len(rf_columns)):\n",
    "    if i == 0: # first\n",
    "        print('extreme lower bound from rf', rf_columns[i])\n",
    "        result_df_hybrid[rf_columns[i]] = result_df_RF[rf_columns[i]]\n",
    "    elif i == len(rf_columns)-1: # last\n",
    "        print('extreme upper bound from rf', rf_columns[i])\n",
    "        result_df_hybrid[rf_columns[i]] = result_df_RF[rf_columns[i]]\n",
    "    elif i < (len(rf_columns)-1)/2:\n",
    "        print('lower bounds', rf_columns[i], xgb_columns[i])\n",
    "        result_df_hybrid[rf_columns[i]] = np.maximum(result_df_XGB[xgb_columns[i]], result_df_RF[rf_columns[i]])\n",
    "        # result_df_hybrid_2023[rf_columns[i]] = pd.DataFrame([result_df_XGB_2023[xgb_columns[i]], result_df_RF_2023[rf_columns[i]]]).max(axis=0)\n",
    "    elif i == (len(rf_columns)-1)/2:\n",
    "        print('mid', rf_columns[i], xgb_columns[i])\n",
    "        result_df_hybrid[rf_columns[i]] = result_df_RF[rf_columns[i]]\n",
    "    else:\n",
    "        print('upper bounds', rf_columns[i], xgb_columns[i])\n",
    "        result_df_hybrid[rf_columns[i]] = np.minimum(result_df_XGB[xgb_columns[i]], result_df_RF[rf_columns[i]])\n"
   ]
  },
  {
   "cell_type": "code",
   "execution_count": null,
   "metadata": {},
   "outputs": [],
   "source": [
    "result_df = result_df_hybrid.copy()"
   ]
  },
  {
   "cell_type": "code",
   "execution_count": 43,
   "metadata": {},
   "outputs": [
    {
     "data": {
      "image/png": "[encoded data removed]",
      "text/plain": [
       "<Figure size 640x480 with 1 Axes>"
      ]
     },
     "metadata": {},
     "output_type": "display_data"
    }
   ],
   "source": [
    "for i in range(num_intervals):\n",
    "    alph=0.1+(i/10.)\n",
    "    plt.fill_between(result_df.index,# x\n",
    "                     result_df[str(percentile_list[i])+'_p_ac'].fillna(0), # lower\n",
    "                     result_df[str(percentile_list[len(percentile_list)-i-1])+'_p_ac'].fillna(0), # upper\n",
    "                     color='blue',\n",
    "                     alpha=alph,\n",
    "                     step='mid',\n",
    "                     label=(str(pi_list[i]*100)+'%'))\n",
    "    \n",
    "plt.plot(result_df.index,\n",
    "         result_df[str(percentile_list[int((len(percentile_list)-1)/2)])+'_p_ac'],\n",
    "         label='Hybrid expected',color='brown', drawstyle='steps-mid')\n",
    "# plt.plot(result_df.index,result_df['p_ac_all_act'],label='actual',color='black', drawstyle='steps-mid')\n",
    "plt.plot(result_df.index,result_df['p_ac_all_fcast'],label='DA fcast (HRRR coarse)',color='orange', drawstyle='steps-mid')\n",
    "plt.ylabel('AC Power (MW)')\n",
    "# plt.ylim([0,4500])\n",
    "plt.legend(bbox_to_anchor=(1.05, 1.0), loc='upper left')\n",
    "plt.show()"
   ]
  },
  {
   "cell_type": "code",
   "execution_count": 44,
   "metadata": {},
   "outputs": [
    {
     "data": {
      "text/html": [
       "<div>\n",
       "<style scoped>\n",
       "    .dataframe tbody tr th:only-of-type {\n",
       "        vertical-align: middle;\n",
       "    }\n",
       "\n",
       "    .dataframe tbody tr th {\n",
       "        vertical-align: top;\n",
       "    }\n",
       "\n",
       "    .dataframe thead th {\n",
       "        text-align: right;\n",
       "    }\n",
       "</style>\n",
       "<table border=\"1\" class=\"dataframe\">\n",
       "  <thead>\n",
       "    <tr style=\"text-align: right;\">\n",
       "      <th></th>\n",
       "      <th>tcc_std</th>\n",
       "      <th>max_min_norm</th>\n",
       "      <th>csi_fcast</th>\n",
       "      <th>zen</th>\n",
       "      <th>az</th>\n",
       "      <th>month</th>\n",
       "      <th>p_ac_all_fcast</th>\n",
       "      <th>p_ac_all_fcast_max</th>\n",
       "      <th>p_ac_all_fcast_min</th>\n",
       "      <th>p_ac_all_cs</th>\n",
       "      <th>...</th>\n",
       "      <th>0.005_p_ac</th>\n",
       "      <th>0.01_p_ac</th>\n",
       "      <th>0.025_p_ac</th>\n",
       "      <th>0.25_p_ac</th>\n",
       "      <th>0.5_p_ac</th>\n",
       "      <th>0.75_p_ac</th>\n",
       "      <th>0.975_p_ac</th>\n",
       "      <th>0.99_p_ac</th>\n",
       "      <th>0.995_p_ac</th>\n",
       "      <th>0.9975_p_ac</th>\n",
       "    </tr>\n",
       "    <tr>\n",
       "      <th>time_center_labeled</th>\n",
       "      <th></th>\n",
       "      <th></th>\n",
       "      <th></th>\n",
       "      <th></th>\n",
       "      <th></th>\n",
       "      <th></th>\n",
       "      <th></th>\n",
       "      <th></th>\n",
       "      <th></th>\n",
       "      <th></th>\n",
       "      <th></th>\n",
       "      <th></th>\n",
       "      <th></th>\n",
       "      <th></th>\n",
       "      <th></th>\n",
       "      <th></th>\n",
       "      <th></th>\n",
       "      <th></th>\n",
       "      <th></th>\n",
       "      <th></th>\n",
       "      <th></th>\n",
       "    </tr>\n",
       "  </thead>\n",
       "  <tbody>\n",
       "    <tr>\n",
       "      <th>2024-04-16 21:00:00+00:00</th>\n",
       "      <td>3.381094</td>\n",
       "      <td>0.365136</td>\n",
       "      <td>0.801762</td>\n",
       "      <td>52.141873</td>\n",
       "      <td>256.981674</td>\n",
       "      <td>4</td>\n",
       "      <td>2869.438716</td>\n",
       "      <td>3436.088776</td>\n",
       "      <td>2129.297630</td>\n",
       "      <td>3578.917749</td>\n",
       "      <td>...</td>\n",
       "      <td>326.481488</td>\n",
       "      <td>662.002309</td>\n",
       "      <td>796.274550</td>\n",
       "      <td>2186.021695</td>\n",
       "      <td>2619.445953</td>\n",
       "      <td>3003.201088</td>\n",
       "      <td>3372.441609</td>\n",
       "      <td>3482.307241</td>\n",
       "      <td>3535.117858</td>\n",
       "      <td>3538.168996</td>\n",
       "    </tr>\n",
       "    <tr>\n",
       "      <th>2024-04-16 22:00:00+00:00</th>\n",
       "      <td>9.583161</td>\n",
       "      <td>0.472452</td>\n",
       "      <td>0.633400</td>\n",
       "      <td>64.588255</td>\n",
       "      <td>266.288725</td>\n",
       "      <td>4</td>\n",
       "      <td>2165.287620</td>\n",
       "      <td>3003.262116</td>\n",
       "      <td>1388.179357</td>\n",
       "      <td>3418.512720</td>\n",
       "      <td>...</td>\n",
       "      <td>153.453923</td>\n",
       "      <td>220.119430</td>\n",
       "      <td>639.455360</td>\n",
       "      <td>1488.974595</td>\n",
       "      <td>2088.045463</td>\n",
       "      <td>2555.716875</td>\n",
       "      <td>3014.950702</td>\n",
       "      <td>3133.557424</td>\n",
       "      <td>3281.730657</td>\n",
       "      <td>3283.429661</td>\n",
       "    </tr>\n",
       "    <tr>\n",
       "      <th>2024-04-16 23:00:00+00:00</th>\n",
       "      <td>9.583161</td>\n",
       "      <td>0.548633</td>\n",
       "      <td>0.477439</td>\n",
       "      <td>77.144279</td>\n",
       "      <td>274.434249</td>\n",
       "      <td>4</td>\n",
       "      <td>1126.715913</td>\n",
       "      <td>1855.834071</td>\n",
       "      <td>561.105696</td>\n",
       "      <td>2359.915604</td>\n",
       "      <td>...</td>\n",
       "      <td>18.926597</td>\n",
       "      <td>105.934462</td>\n",
       "      <td>114.254717</td>\n",
       "      <td>600.422352</td>\n",
       "      <td>938.272665</td>\n",
       "      <td>1340.784137</td>\n",
       "      <td>1927.146536</td>\n",
       "      <td>2037.867418</td>\n",
       "      <td>2163.201271</td>\n",
       "      <td>2163.201271</td>\n",
       "    </tr>\n",
       "    <tr>\n",
       "      <th>2024-04-17 00:00:00+00:00</th>\n",
       "      <td>9.583161</td>\n",
       "      <td>0.038266</td>\n",
       "      <td>0.040064</td>\n",
       "      <td>89.236555</td>\n",
       "      <td>282.393788</td>\n",
       "      <td>4</td>\n",
       "      <td>7.841728</td>\n",
       "      <td>12.367096</td>\n",
       "      <td>4.877294</td>\n",
       "      <td>195.727668</td>\n",
       "      <td>...</td>\n",
       "      <td>0.000000</td>\n",
       "      <td>0.000000</td>\n",
       "      <td>0.000000</td>\n",
       "      <td>1.309556</td>\n",
       "      <td>4.969193</td>\n",
       "      <td>7.026288</td>\n",
       "      <td>25.779555</td>\n",
       "      <td>44.045522</td>\n",
       "      <td>123.189609</td>\n",
       "      <td>141.194355</td>\n",
       "    </tr>\n",
       "  </tbody>\n",
       "</table>\n",
       "<p>4 rows × 34 columns</p>\n",
       "</div>"
      ],
      "text/plain": [
       "                            tcc_std  max_min_norm  csi_fcast        zen  \\\n",
       "time_center_labeled                                                       \n",
       "2024-04-16 21:00:00+00:00  3.381094      0.365136   0.801762  52.141873   \n",
       "2024-04-16 22:00:00+00:00  9.583161      0.472452   0.633400  64.588255   \n",
       "2024-04-16 23:00:00+00:00  9.583161      0.548633   0.477439  77.144279   \n",
       "2024-04-17 00:00:00+00:00  9.583161      0.038266   0.040064  89.236555   \n",
       "\n",
       "                                   az  month  p_ac_all_fcast  \\\n",
       "time_center_labeled                                            \n",
       "2024-04-16 21:00:00+00:00  256.981674      4     2869.438716   \n",
       "2024-04-16 22:00:00+00:00  266.288725      4     2165.287620   \n",
       "2024-04-16 23:00:00+00:00  274.434249      4     1126.715913   \n",
       "2024-04-17 00:00:00+00:00  282.393788      4        7.841728   \n",
       "\n",
       "                           p_ac_all_fcast_max  p_ac_all_fcast_min  \\\n",
       "time_center_labeled                                                 \n",
       "2024-04-16 21:00:00+00:00         3436.088776         2129.297630   \n",
       "2024-04-16 22:00:00+00:00         3003.262116         1388.179357   \n",
       "2024-04-16 23:00:00+00:00         1855.834071          561.105696   \n",
       "2024-04-17 00:00:00+00:00           12.367096            4.877294   \n",
       "\n",
       "                           p_ac_all_cs  ...  0.005_p_ac   0.01_p_ac  \\\n",
       "time_center_labeled                     ...                           \n",
       "2024-04-16 21:00:00+00:00  3578.917749  ...  326.481488  662.002309   \n",
       "2024-04-16 22:00:00+00:00  3418.512720  ...  153.453923  220.119430   \n",
       "2024-04-16 23:00:00+00:00  2359.915604  ...   18.926597  105.934462   \n",
       "2024-04-17 00:00:00+00:00   195.727668  ...    0.000000    0.000000   \n",
       "\n",
       "                           0.025_p_ac    0.25_p_ac     0.5_p_ac    0.75_p_ac  \\\n",
       "time_center_labeled                                                            \n",
       "2024-04-16 21:00:00+00:00  796.274550  2186.021695  2619.445953  3003.201088   \n",
       "2024-04-16 22:00:00+00:00  639.455360  1488.974595  2088.045463  2555.716875   \n",
       "2024-04-16 23:00:00+00:00  114.254717   600.422352   938.272665  1340.784137   \n",
       "2024-04-17 00:00:00+00:00    0.000000     1.309556     4.969193     7.026288   \n",
       "\n",
       "                            0.975_p_ac    0.99_p_ac   0.995_p_ac  0.9975_p_ac  \n",
       "time_center_labeled                                                            \n",
       "2024-04-16 21:00:00+00:00  3372.441609  3482.307241  3535.117858  3538.168996  \n",
       "2024-04-16 22:00:00+00:00  3014.950702  3133.557424  3281.730657  3283.429661  \n",
       "2024-04-16 23:00:00+00:00  1927.146536  2037.867418  2163.201271  2163.201271  \n",
       "2024-04-17 00:00:00+00:00    25.779555    44.045522   123.189609   141.194355  \n",
       "\n",
       "[4 rows x 34 columns]"
      ]
     },
     "execution_count": 44,
     "metadata": {},
     "output_type": "execute_result"
    }
   ],
   "source": [
    "result_df"
   ]
  },
  {
   "cell_type": "code",
   "execution_count": null,
   "metadata": {},
   "outputs": [],
   "source": []
  }
 ],
 "metadata": {
  "kernelspec": {
   "display_name": "Python 3",
   "language": "python",
   "name": "python3"
  },
  "language_info": {
   "codemirror_mode": {
    "name": "ipython",
    "version": 3
   },
   "file_extension": ".py",
   "mimetype": "text/x-python",
   "name": "python",
   "nbconvert_exporter": "python",
   "pygments_lexer": "ipython3",
   "version": "3.10.14"
  }
 },
 "nbformat": 4,
 "nbformat_minor": 2
}
