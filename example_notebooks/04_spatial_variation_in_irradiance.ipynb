{
 "cells": [
  {
   "cell_type": "markdown",
   "metadata": {},
   "source": [
    "_placeholder for looking at one of our indicators of forecast uncertaintu, the spatial variation in irradiance (and resulting calculated fleet power) across 10x10 HRRR grid cells (approx. 30x30 km)_\n",
    "\n",
    "_Calculated as (max-min)/clear sky_"
   ]
  },
  {
   "cell_type": "code",
   "execution_count": null,
   "metadata": {},
   "outputs": [],
   "source": []
  }
 ],
 "metadata": {
  "language_info": {
   "name": "python"
  }
 },
 "nbformat": 4,
 "nbformat_minor": 2
}
