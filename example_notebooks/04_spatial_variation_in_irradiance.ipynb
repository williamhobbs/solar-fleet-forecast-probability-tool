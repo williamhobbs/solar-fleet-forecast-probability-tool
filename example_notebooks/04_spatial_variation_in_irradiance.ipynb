{
 "cells": [
  {
   "cell_type": "markdown",
   "metadata": {},
   "source": [
    "_placeholder for looking at one of our indicators of forecast uncertainty, the spatial variation in irradiance (and resulting calculated fleet power) across 10x10 HRRR grid cells (approx. 30x30 km)_\n",
    "\n",
    "_Calculated as (max-min)/clear sky_"
   ]
  },
  {
   "cell_type": "code",
   "execution_count": 1,
   "metadata": {},
   "outputs": [],
   "source": [
    "from herbie import Herbie\n",
    "from herbie import FastHerbie\n",
    "import pandas as pd\n",
    "import pickle\n",
    "\n",
    "import cartopy.crs as ccrs\n",
    "import matplotlib.pyplot as plt\n",
    "import numpy as np\n",
    "from paint.standard2 import cm_tmp, cm_wind, cm_wave_height, cm_pcp\n",
    "from toolbox import EasyMap, pc, ccrs\n",
    "import xarray as xr\n",
    "from dateutil.relativedelta import relativedelta\n",
    "from dateutil.parser import parse\n",
    "import pvlib\n",
    "\n",
    "import cartopy\n",
    "import cartopy.crs as crs\n",
    "import cartopy.feature as cfeature"
   ]
  },
  {
   "cell_type": "code",
   "execution_count": 2,
   "metadata": {},
   "outputs": [],
   "source": [
    "p_ac_hrrr_coarse_max_all = pd.read_pickle('example_data/p_ac_hrrr_coarse_max_all.pkl')\n",
    "p_ac_hrrr_coarse_min_all = pd.read_pickle('example_data/p_ac_hrrr_coarse_min_all.pkl')\n",
    "power_ac_cs_all = pd.read_pickle('example_data/power_ac_cs_all.pkl')"
   ]
  },
  {
   "cell_type": "code",
   "execution_count": null,
   "metadata": {},
   "outputs": [],
   "source": []
  }
 ],
 "metadata": {
  "kernelspec": {
   "display_name": "Python 3",
   "language": "python",
   "name": "python3"
  },
  "language_info": {
   "codemirror_mode": {
    "name": "ipython",
    "version": 3
   },
   "file_extension": ".py",
   "mimetype": "text/x-python",
   "name": "python",
   "nbconvert_exporter": "python",
   "pygments_lexer": "ipython3",
   "version": "3.10.14"
  }
 },
 "nbformat": 4,
 "nbformat_minor": 2
}
